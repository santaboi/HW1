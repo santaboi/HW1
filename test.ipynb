{
 "cells": [
  {
   "cell_type": "code",
   "execution_count": 11,
   "metadata": {},
   "outputs": [],
   "source": [
    "import matplotlib\n",
    "import cv2\n",
    "import PyQt5\n",
    "import numpy as np\n",
    "import matplotlib as plt\n",
    "import math\n",
    "from cfg import *\n"
   ]
  },
  {
   "cell_type": "code",
   "execution_count": 12,
   "metadata": {},
   "outputs": [],
   "source": [
    "def normalize(x, m, seed):\n",
    "    return 1 / (np.sqrt(np.pi * 2) * seed) * np.e ** (-np.power((x - m) / seed, 2) / 2)\n",
    "\n",
    "\n",
    "def Gaus_filter(size, sigma=1):\n",
    "    array_1d = np.empty(size)\n",
    "    start = size // 2\n",
    "    # initialized(好像可用linspace取代)\n",
    "    for index in range(size):\n",
    "        array_1d[index] = index - start\n",
    "    print(array_1d)\n",
    "    # normalized\n",
    "    for index in range(size):\n",
    "        array_1d[index] = normalize(array_1d[index], 0, sigma)\n",
    "    array_2d = np.outer(array_1d.T, array_1d.T)\n",
    "    array_2d *= 1.0 / array_2d.max()\n",
    "\n",
    "    print(array_2d)\n",
    "    return array_2d  # return filter\n",
    "\n",
    "# make sure convert to grayscale before calling convolution\n",
    "\n",
    "\n",
    "def convolution(image, filter, avg=False):\n",
    "\n",
    "    img_rows, img_cols = image.shape\n",
    "    fil_row, fil_col = filter.shape\n",
    "    result = np.zeros((img_rows, img_cols))  # for output\n",
    "\n",
    "    # padding block\n",
    "    padding_r = int((fil_row - 1) / 2)\n",
    "    padding_c = int((fil_col - 1) / 2)\n",
    "    pad_img = np.zeros(((padding_r*2) + img_rows, (padding_c*2) + img_cols))\n",
    "    pad_img[padding_r:pad_img.shape[0] - padding_r,\n",
    "            padding_c:pad_img.shape[1] - padding_c] = image\n",
    "    # conv operation\n",
    "    for row in range(img_rows):\n",
    "        for col in range(img_cols):\n",
    "            # filter 走到之處九宮格相乘再全sum起來\n",
    "            result[row, col] = np.sum(\n",
    "                filter * pad_img[row: row + fil_row, col: col + fil_col])\n",
    "            if avg:\n",
    "                # divide total pixels number\n",
    "                result[row, col] /= filter.shape[0] * filter.shape[1]\n",
    "    return result\n",
    "\n",
    "\n",
    "def gaussian_blur(img, filter_size):\n",
    "    sigma1 = math.sqrt(filter_size)  # square root the filter_size\n",
    "    filter = Gaus_filter(filter_size,  math.sqrt(filter_size))\n",
    "    return convolution(img, filter, avg=True)"
   ]
  },
  {
   "cell_type": "code",
   "execution_count": 13,
   "metadata": {},
   "outputs": [],
   "source": [
    "\n",
    "\n",
    "\n",
    "def sobel_edge_detection(image, filter, verbose=False):\n",
    "    new_image_x = convolution(image, filter, verbose)\n",
    "\n",
    "    if verbose:\n",
    "        plt.imshow(new_image_x, cmap='gray')\n",
    "        plt.title(\"Horizontal Edge\")\n",
    "        plt.show()\n",
    "\n",
    "    new_image_y = convolution(image, np.flip(filter.T, axis=0), verbose)\n",
    "\n",
    "    if verbose:\n",
    "        plt.imshow(new_image_y, cmap='gray')\n",
    "        plt.title(\"Vertical Edge\")\n",
    "        plt.show()\n",
    "\n",
    "    '''\n",
    "    gradient_magnitude = np.sqrt(\n",
    "        np.square(new_image_x) + np.square(new_image_y))\n",
    "\n",
    "    gradient_magnitude *= 255.0 / gradient_magnitude.max()\n",
    "    '''\n",
    "    new_image_x *= 255 / new_image_x.max()\n",
    "    if verbose:\n",
    "        plt.imshow(gradient_magnitude, cmap='gray')\n",
    "        plt.title(\"Gradient Magnitude\")\n",
    "        plt.show()\n",
    "\n",
    "    #return gradient_magnitude\n",
    "    return new_image_x\n"
   ]
  },
  {
   "cell_type": "code",
   "execution_count": 14,
   "metadata": {},
   "outputs": [
    {
     "name": "stdout",
     "output_type": "stream",
     "text": [
      "[-1.  0.  1.]\n",
      "[[0.71653131 0.84648172 0.71653131]\n",
      " [0.84648172 1.         0.84648172]\n",
      " [0.71653131 0.84648172 0.71653131]]\n"
     ]
    },
    {
     "data": {
      "text/plain": [
       "True"
      ]
     },
     "execution_count": 14,
     "metadata": {},
     "output_type": "execute_result"
    }
   ],
   "source": [
    "gau2 = cv2.imread(q3_folder + 'House.jpg')\n",
    "gau2 = cv2.cvtColor(gau2, cv2.COLOR_BGR2GRAY)\n",
    "filter = np.array([[-1, 0, 1], [-2, 0, 2], [-1, 0, 1]])\n",
    "image = gaussian_blur(gau2, 3)\n",
    "image = sobel_edge_detection(image, filter)\n",
    "'''\n",
    "cv2.imshow = ('test', image)\n",
    "cv2.waitKey(0)\n",
    "'''\n",
    "cv2.imwrite('sobel.jpg' , image)\n"
   ]
  }
 ],
 "metadata": {
  "interpreter": {
   "hash": "4c7b8fff6bea387e814f2ffd9a45f51dd8ad33594b1d2df78e1f0c55c684f477"
  },
  "kernelspec": {
   "display_name": "Python 3.7.11 64-bit ('opencv1': conda)",
   "language": "python",
   "name": "python3"
  },
  "language_info": {
   "codemirror_mode": {
    "name": "ipython",
    "version": 3
   },
   "file_extension": ".py",
   "mimetype": "text/x-python",
   "name": "python",
   "nbconvert_exporter": "python",
   "pygments_lexer": "ipython3",
   "version": "3.7.11"
  },
  "orig_nbformat": 4
 },
 "nbformat": 4,
 "nbformat_minor": 2
}
