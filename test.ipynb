{
 "cells": [
  {
   "cell_type": "code",
   "execution_count": 15,
   "metadata": {},
   "outputs": [],
   "source": [
    "import matplotlib\n",
    "import cv2\n",
    "import PyQt5\n"
   ]
  },
  {
   "cell_type": "code",
   "execution_count": 18,
   "metadata": {},
   "outputs": [],
   "source": [
    "img1_path = './data/Q1_Image/' + 'Sun.jpg'\n",
    "img1 = cv2.imread(img1_path)\n",
    "img = cv2.imshow('fuck2021', img1)\n"
   ]
  }
 ],
 "metadata": {
  "interpreter": {
   "hash": "4c7b8fff6bea387e814f2ffd9a45f51dd8ad33594b1d2df78e1f0c55c684f477"
  },
  "kernelspec": {
   "display_name": "Python 3.7.11 64-bit ('opencv1': conda)",
   "language": "python",
   "name": "python3"
  },
  "language_info": {
   "codemirror_mode": {
    "name": "ipython",
    "version": 3
   },
   "file_extension": ".py",
   "mimetype": "text/x-python",
   "name": "python",
   "nbconvert_exporter": "python",
   "pygments_lexer": "ipython3",
   "version": "3.7.11"
  },
  "orig_nbformat": 4
 },
 "nbformat": 4,
 "nbformat_minor": 2
}
